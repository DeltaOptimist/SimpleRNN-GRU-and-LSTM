{
 "cells": [
  {
   "cell_type": "code",
   "execution_count": 3,
   "id": "700a4867-7bd3-43b5-a829-7c892c95d81e",
   "metadata": {},
   "outputs": [
    {
     "name": "stdout",
     "output_type": "stream",
     "text": [
      "Collecting tensorflow_datasets\n",
      "  Downloading tensorflow_datasets-4.7.0-py3-none-any.whl (4.7 MB)\n",
      "\u001b[K     |████████████████████████████████| 4.7 MB 7.9 MB/s eta 0:00:01\n",
      "\u001b[?25hRequirement already satisfied: termcolor in /anaconda/envs/azureml_py38/lib/python3.8/site-packages (from tensorflow_datasets) (1.1.0)\n",
      "Requirement already satisfied: toml in /anaconda/envs/azureml_py38/lib/python3.8/site-packages (from tensorflow_datasets) (0.10.2)\n",
      "Requirement already satisfied: tqdm in /anaconda/envs/azureml_py38/lib/python3.8/site-packages (from tensorflow_datasets) (4.64.0)\n",
      "Collecting promise\n",
      "  Downloading promise-2.3.tar.gz (19 kB)\n",
      "Collecting etils[epath]\n",
      "  Downloading etils-0.9.0-py3-none-any.whl (140 kB)\n",
      "\u001b[K     |████████████████████████████████| 140 kB 93.8 MB/s eta 0:00:01\n",
      "\u001b[?25hRequirement already satisfied: absl-py in /anaconda/envs/azureml_py38/lib/python3.8/site-packages (from tensorflow_datasets) (1.3.0)\n",
      "Requirement already satisfied: dill in /anaconda/envs/azureml_py38/lib/python3.8/site-packages (from tensorflow_datasets) (0.3.5.1)\n",
      "Requirement already satisfied: protobuf>=3.12.2 in /anaconda/envs/azureml_py38/lib/python3.8/site-packages (from tensorflow_datasets) (3.19.6)\n",
      "Requirement already satisfied: requests>=2.19.0 in /anaconda/envs/azureml_py38/lib/python3.8/site-packages (from tensorflow_datasets) (2.28.1)\n",
      "Requirement already satisfied: importlib-resources; python_version < \"3.9\" in /anaconda/envs/azureml_py38/lib/python3.8/site-packages (from tensorflow_datasets) (5.9.0)\n",
      "Requirement already satisfied: numpy in /anaconda/envs/azureml_py38/lib/python3.8/site-packages (from tensorflow_datasets) (1.23.4)\n",
      "Requirement already satisfied: six in /anaconda/envs/azureml_py38/lib/python3.8/site-packages (from tensorflow_datasets) (1.16.0)\n",
      "Collecting tensorflow-metadata\n",
      "  Downloading tensorflow_metadata-1.10.0-py3-none-any.whl (50 kB)\n",
      "\u001b[K     |████████████████████████████████| 50 kB 3.0 MB/s  eta 0:00:01\n",
      "\u001b[?25hRequirement already satisfied: zipp; extra == \"epath\" in /anaconda/envs/azureml_py38/lib/python3.8/site-packages (from etils[epath]->tensorflow_datasets) (3.8.1)\n",
      "Requirement already satisfied: typing_extensions; extra == \"epath\" in /anaconda/envs/azureml_py38/lib/python3.8/site-packages (from etils[epath]->tensorflow_datasets) (4.3.0)\n",
      "Requirement already satisfied: idna<4,>=2.5 in /anaconda/envs/azureml_py38/lib/python3.8/site-packages (from requests>=2.19.0->tensorflow_datasets) (3.3)\n",
      "Requirement already satisfied: certifi>=2017.4.17 in /anaconda/envs/azureml_py38/lib/python3.8/site-packages (from requests>=2.19.0->tensorflow_datasets) (2022.6.15)\n",
      "Requirement already satisfied: urllib3<1.27,>=1.21.1 in /anaconda/envs/azureml_py38/lib/python3.8/site-packages (from requests>=2.19.0->tensorflow_datasets) (1.26.9)\n",
      "Requirement already satisfied: charset-normalizer<3,>=2 in /anaconda/envs/azureml_py38/lib/python3.8/site-packages (from requests>=2.19.0->tensorflow_datasets) (2.1.0)\n",
      "Requirement already satisfied: googleapis-common-protos<2,>=1.52.0 in /anaconda/envs/azureml_py38/lib/python3.8/site-packages (from tensorflow-metadata->tensorflow_datasets) (1.56.4)\n",
      "Building wheels for collected packages: promise\n",
      "  Building wheel for promise (setup.py) ... \u001b[?25ldone\n",
      "\u001b[?25h  Created wheel for promise: filename=promise-2.3-py3-none-any.whl size=21494 sha256=bfdf7045f239aca141f3d9437c7d7f9a1e35a31bf9c2b3be74daba20e043aa53\n",
      "  Stored in directory: /home/azureuser/.cache/pip/wheels/54/aa/01/724885182f93150035a2a91bce34a12877e8067a97baaf5dc8\n",
      "Successfully built promise\n",
      "Installing collected packages: promise, etils, tensorflow-metadata, tensorflow-datasets\n",
      "Successfully installed etils-0.9.0 promise-2.3 tensorflow-datasets-4.7.0 tensorflow-metadata-1.10.0\n",
      "Note: you may need to restart the kernel to use updated packages.\n"
     ]
    }
   ],
   "source": [
    "pip install tensorflow_datasets"
   ]
  },
  {
   "cell_type": "code",
   "execution_count": 4,
   "id": "e9d3b3a3-ff02-4f73-bda2-fad6fec42fe6",
   "metadata": {},
   "outputs": [],
   "source": [
    "import numpy as np\n",
    "import tensorflow as tf\n",
    "import tensorflow_datasets as tfds"
   ]
  },
  {
   "cell_type": "code",
   "execution_count": 5,
   "id": "afafdf40-ff62-4d79-8a5b-8451e95fb7ad",
   "metadata": {},
   "outputs": [
    {
     "name": "stderr",
     "output_type": "stream",
     "text": [
      "2022-11-08 06:25:57.860348: W tensorflow/core/platform/cloud/google_auth_provider.cc:184] All attempts to get a Google authentication bearer token failed, returning an empty token. Retrieving token from files failed with \"NOT_FOUND: Could not locate the credentials file.\". Retrieving token from GCE failed with \"FAILED_PRECONDITION: Error executing an HTTP request: libcurl code 6 meaning 'Couldn't resolve host name', error details: Could not resolve host: metadata\".\n"
     ]
    },
    {
     "name": "stdout",
     "output_type": "stream",
     "text": [
      "\u001b[1mDownloading and preparing dataset 80.23 MiB (download: 80.23 MiB, generated: Unknown size, total: 80.23 MiB) to /home/azureuser/tensorflow_datasets/imdb_reviews/plain_text/1.0.0...\u001b[0m\n"
     ]
    },
    {
     "data": {
      "application/vnd.jupyter.widget-view+json": {
       "model_id": "d62c4b2005184abfaaf5419479848ec8",
       "version_major": 2,
       "version_minor": 0
      },
      "text/plain": [
       "Dl Completed...: 0 url [00:00, ? url/s]"
      ]
     },
     "metadata": {},
     "output_type": "display_data"
    },
    {
     "data": {
      "application/vnd.jupyter.widget-view+json": {
       "model_id": "980439a3b2144120805df7ee08bd8206",
       "version_major": 2,
       "version_minor": 0
      },
      "text/plain": [
       "Dl Size...: 0 MiB [00:00, ? MiB/s]"
      ]
     },
     "metadata": {},
     "output_type": "display_data"
    },
    {
     "data": {
      "application/vnd.jupyter.widget-view+json": {
       "model_id": "",
       "version_major": 2,
       "version_minor": 0
      },
      "text/plain": [
       "Generating splits...:   0%|          | 0/3 [00:00<?, ? splits/s]"
      ]
     },
     "metadata": {},
     "output_type": "display_data"
    },
    {
     "data": {
      "application/vnd.jupyter.widget-view+json": {
       "model_id": "",
       "version_major": 2,
       "version_minor": 0
      },
      "text/plain": [
       "Generating train examples...:   0%|          | 0/25000 [00:00<?, ? examples/s]"
      ]
     },
     "metadata": {},
     "output_type": "display_data"
    },
    {
     "data": {
      "application/vnd.jupyter.widget-view+json": {
       "model_id": "",
       "version_major": 2,
       "version_minor": 0
      },
      "text/plain": [
       "Shuffling /home/azureuser/tensorflow_datasets/imdb_reviews/plain_text/1.0.0.incomplete7XXKBI/imdb_reviews-trai…"
      ]
     },
     "metadata": {},
     "output_type": "display_data"
    },
    {
     "data": {
      "application/vnd.jupyter.widget-view+json": {
       "model_id": "",
       "version_major": 2,
       "version_minor": 0
      },
      "text/plain": [
       "Generating test examples...:   0%|          | 0/25000 [00:00<?, ? examples/s]"
      ]
     },
     "metadata": {},
     "output_type": "display_data"
    },
    {
     "data": {
      "application/vnd.jupyter.widget-view+json": {
       "model_id": "",
       "version_major": 2,
       "version_minor": 0
      },
      "text/plain": [
       "Shuffling /home/azureuser/tensorflow_datasets/imdb_reviews/plain_text/1.0.0.incomplete7XXKBI/imdb_reviews-test…"
      ]
     },
     "metadata": {},
     "output_type": "display_data"
    },
    {
     "data": {
      "application/vnd.jupyter.widget-view+json": {
       "model_id": "",
       "version_major": 2,
       "version_minor": 0
      },
      "text/plain": [
       "Generating unsupervised examples...:   0%|          | 0/50000 [00:00<?, ? examples/s]"
      ]
     },
     "metadata": {},
     "output_type": "display_data"
    },
    {
     "data": {
      "application/vnd.jupyter.widget-view+json": {
       "model_id": "",
       "version_major": 2,
       "version_minor": 0
      },
      "text/plain": [
       "Shuffling /home/azureuser/tensorflow_datasets/imdb_reviews/plain_text/1.0.0.incomplete7XXKBI/imdb_reviews-unsu…"
      ]
     },
     "metadata": {},
     "output_type": "display_data"
    },
    {
     "name": "stdout",
     "output_type": "stream",
     "text": [
      "\u001b[1mDataset imdb_reviews downloaded and prepared to /home/azureuser/tensorflow_datasets/imdb_reviews/plain_text/1.0.0. Subsequent calls will reuse this data.\u001b[0m\n"
     ]
    },
    {
     "name": "stderr",
     "output_type": "stream",
     "text": [
      "2022-11-08 06:26:45.752342: E tensorflow/stream_executor/cuda/cuda_driver.cc:265] failed call to cuInit: CUDA_ERROR_NO_DEVICE: no CUDA-capable device is detected\n",
      "2022-11-08 06:26:45.752410: I tensorflow/stream_executor/cuda/cuda_diagnostics.cc:156] kernel driver does not appear to be running on this host (madhav-trest): /proc/driver/nvidia/version does not exist\n",
      "2022-11-08 06:26:45.753463: I tensorflow/core/platform/cpu_feature_guard.cc:193] This TensorFlow binary is optimized with oneAPI Deep Neural Network Library (oneDNN) to use the following CPU instructions in performance-critical operations:  AVX2 AVX512F FMA\n",
      "To enable them in other operations, rebuild TensorFlow with the appropriate compiler flags.\n"
     ]
    }
   ],
   "source": [
    "imdb, info = tfds.load(\"imdb_reviews\",with_info=True, as_supervised=True)"
   ]
  },
  {
   "cell_type": "code",
   "execution_count": 6,
   "id": "091167d2-6854-4df4-b8a4-a8bd54f7e6e2",
   "metadata": {},
   "outputs": [],
   "source": [
    "train_data, test_data = imdb['train'], imdb['test']"
   ]
  },
  {
   "cell_type": "code",
   "execution_count": 12,
   "id": "93b01ba0-7b55-4fea-84f0-365ba4e53f5e",
   "metadata": {},
   "outputs": [],
   "source": [
    "training_sentences = []\n",
    "training_labels = []\n",
    "testing_sentences = []\n",
    "testing_labels = []\n",
    "for s,l in train_data:\n",
    "    training_sentences.append(str(s.numpy()))\n",
    "    training_labels.append(l.numpy())\n",
    "    \n",
    "for s,l in test_data:\n",
    "    testing_sentences.append(str(s.numpy()))\n",
    "    testing_labels.append(l.numpy())"
   ]
  },
  {
   "cell_type": "code",
   "execution_count": 13,
   "id": "3185b91a-876f-41e2-ac94-773f2d61fbca",
   "metadata": {},
   "outputs": [],
   "source": [
    "training_labels_final = np.array(training_labels)\n",
    "testing_labels_final = np.array(testing_labels)"
   ]
  },
  {
   "cell_type": "code",
   "execution_count": 14,
   "id": "57548629-6bba-4e0d-b00e-61ab1f268913",
   "metadata": {},
   "outputs": [],
   "source": [
    "vocab_size = 10000\n",
    "embedding_dim=16\n",
    "max_length = 120\n",
    "trunc_type= 'post'\n",
    "oov_tok=\"\""
   ]
  },
  {
   "cell_type": "code",
   "execution_count": 17,
   "id": "8d2c465c-e6c2-4c51-9904-e6efbafd2fd7",
   "metadata": {},
   "outputs": [],
   "source": [
    "from tensorflow.keras.preprocessing.text import Tokenizer\n",
    "from tensorflow.keras.preprocessing.sequence import pad_sequences\n",
    "tokenizer = Tokenizer(num_words = vocab_size, oov_token=oov_tok)\n",
    "tokenizer.fit_on_texts(training_sentences)\n",
    "word_index = tokenizer.word_index"
   ]
  },
  {
   "cell_type": "code",
   "execution_count": 18,
   "id": "04546533-5839-4079-9301-a422ce1af732",
   "metadata": {},
   "outputs": [],
   "source": [
    "sequences = tokenizer.texts_to_sequences(training_sentences)\n",
    "padded = pad_sequences(sequences, maxlen=max_length, truncating = trunc_type)\n",
    "\n",
    "testing_sequences = tokenizer.texts_to_sequences(testing_sentences)\n",
    "testing_padded = pad_sequences(testing_sequences, maxlen=max_length)"
   ]
  },
  {
   "cell_type": "code",
   "execution_count": 19,
   "id": "7a4ac209-d8d9-4525-b624-282e2dbf179d",
   "metadata": {},
   "outputs": [
    {
     "name": "stdout",
     "output_type": "stream",
     "text": [
      "Model: \"sequential\"\n",
      "_________________________________________________________________\n",
      " Layer (type)                Output Shape              Param #   \n",
      "=================================================================\n",
      " embedding (Embedding)       (None, 120, 16)           160000    \n",
      "                                                                 \n",
      " simple_rnn (SimpleRNN)      (None, 32)                1568      \n",
      "                                                                 \n",
      " dense (Dense)               (None, 10)                330       \n",
      "                                                                 \n",
      " dense_1 (Dense)             (None, 1)                 11        \n",
      "                                                                 \n",
      "=================================================================\n",
      "Total params: 161,909\n",
      "Trainable params: 161,909\n",
      "Non-trainable params: 0\n",
      "_________________________________________________________________\n"
     ]
    }
   ],
   "source": [
    "model = tf.keras.Sequential([\n",
    "    tf.keras.layers.Embedding(vocab_size, embedding_dim,\n",
    "                             input_length=max_length),\n",
    "    tf.keras.layers.SimpleRNN(32),\n",
    "    tf.keras.layers.Dense(10, activation='relu'),\n",
    "    tf.keras.layers.Dense(1, activation='sigmoid')\n",
    "])\n",
    "model.summary()"
   ]
  },
  {
   "cell_type": "code",
   "execution_count": 20,
   "id": "10060cd0-13b2-4104-8160-1e488519b5d9",
   "metadata": {},
   "outputs": [],
   "source": [
    "model.compile(loss='binary_crossentropy',optimizer='adam',metrics=['accuracy'])"
   ]
  },
  {
   "cell_type": "code",
   "execution_count": 21,
   "id": "e7500e49-4015-44c5-9327-aed6ab4512f3",
   "metadata": {},
   "outputs": [
    {
     "name": "stdout",
     "output_type": "stream",
     "text": [
      "Epoch 1/30\n",
      "782/782 [==============================] - 19s 23ms/step - loss: 0.6925 - accuracy: 0.5144 - val_loss: 0.6941 - val_accuracy: 0.5000\n",
      "Epoch 2/30\n",
      "782/782 [==============================] - 18s 23ms/step - loss: 0.6244 - accuracy: 0.6524 - val_loss: 0.5799 - val_accuracy: 0.7027\n",
      "Epoch 3/30\n",
      "782/782 [==============================] - 18s 23ms/step - loss: 0.4296 - accuracy: 0.8118 - val_loss: 0.4515 - val_accuracy: 0.8065\n",
      "Epoch 4/30\n",
      "782/782 [==============================] - 18s 23ms/step - loss: 0.2668 - accuracy: 0.8924 - val_loss: 0.5541 - val_accuracy: 0.7946\n",
      "Epoch 5/30\n",
      "782/782 [==============================] - 18s 23ms/step - loss: 0.1444 - accuracy: 0.9467 - val_loss: 0.7399 - val_accuracy: 0.7482\n",
      "Epoch 6/30\n",
      "782/782 [==============================] - 18s 23ms/step - loss: 0.0820 - accuracy: 0.9708 - val_loss: 0.9694 - val_accuracy: 0.7277\n",
      "Epoch 7/30\n",
      "782/782 [==============================] - 18s 23ms/step - loss: 0.0880 - accuracy: 0.9670 - val_loss: 0.9927 - val_accuracy: 0.7521\n",
      "Epoch 8/30\n",
      "782/782 [==============================] - 18s 23ms/step - loss: 0.0277 - accuracy: 0.9911 - val_loss: 1.2017 - val_accuracy: 0.7443\n",
      "Epoch 9/30\n",
      "782/782 [==============================] - 18s 23ms/step - loss: 0.0305 - accuracy: 0.9908 - val_loss: 1.6445 - val_accuracy: 0.5970\n",
      "Epoch 10/30\n",
      "782/782 [==============================] - 18s 23ms/step - loss: 0.0470 - accuracy: 0.9830 - val_loss: 1.2547 - val_accuracy: 0.7670\n",
      "Epoch 11/30\n",
      "782/782 [==============================] - 18s 23ms/step - loss: 0.0142 - accuracy: 0.9956 - val_loss: 1.3760 - val_accuracy: 0.7352\n",
      "Epoch 12/30\n",
      "782/782 [==============================] - 18s 23ms/step - loss: 0.0151 - accuracy: 0.9951 - val_loss: 1.3717 - val_accuracy: 0.7484\n",
      "Epoch 13/30\n",
      "782/782 [==============================] - 18s 23ms/step - loss: 0.0481 - accuracy: 0.9826 - val_loss: 1.3706 - val_accuracy: 0.7251\n",
      "Epoch 14/30\n",
      "782/782 [==============================] - 18s 23ms/step - loss: 0.0167 - accuracy: 0.9949 - val_loss: 1.4738 - val_accuracy: 0.7038\n",
      "Epoch 15/30\n",
      "782/782 [==============================] - 18s 23ms/step - loss: 0.0253 - accuracy: 0.9914 - val_loss: 1.4299 - val_accuracy: 0.7220\n",
      "Epoch 16/30\n",
      "782/782 [==============================] - 18s 23ms/step - loss: 0.0126 - accuracy: 0.9960 - val_loss: 1.6230 - val_accuracy: 0.7369\n",
      "Epoch 17/30\n",
      "782/782 [==============================] - 18s 23ms/step - loss: 0.0087 - accuracy: 0.9975 - val_loss: 1.6134 - val_accuracy: 0.7168\n",
      "Epoch 18/30\n",
      "782/782 [==============================] - 18s 23ms/step - loss: 0.0098 - accuracy: 0.9969 - val_loss: 1.5564 - val_accuracy: 0.7396\n",
      "Epoch 19/30\n",
      "782/782 [==============================] - 18s 23ms/step - loss: 0.0198 - accuracy: 0.9929 - val_loss: 1.4073 - val_accuracy: 0.7532\n",
      "Epoch 20/30\n",
      "782/782 [==============================] - 18s 23ms/step - loss: 0.0187 - accuracy: 0.9944 - val_loss: 2.4089 - val_accuracy: 0.5818\n",
      "Epoch 21/30\n",
      "782/782 [==============================] - 18s 23ms/step - loss: 0.0295 - accuracy: 0.9900 - val_loss: 1.6230 - val_accuracy: 0.6984\n",
      "Epoch 22/30\n",
      "782/782 [==============================] - 18s 23ms/step - loss: 0.0045 - accuracy: 0.9987 - val_loss: 1.7443 - val_accuracy: 0.7048\n",
      "Epoch 23/30\n",
      "782/782 [==============================] - 18s 23ms/step - loss: 7.4585e-04 - accuracy: 0.9999 - val_loss: 1.7443 - val_accuracy: 0.7373\n",
      "Epoch 24/30\n",
      "782/782 [==============================] - 18s 23ms/step - loss: 1.3809e-04 - accuracy: 1.0000 - val_loss: 1.8338 - val_accuracy: 0.7368\n",
      "Epoch 25/30\n",
      "782/782 [==============================] - 18s 23ms/step - loss: 6.7294e-05 - accuracy: 1.0000 - val_loss: 1.9053 - val_accuracy: 0.7378\n",
      "Epoch 26/30\n",
      "782/782 [==============================] - 18s 23ms/step - loss: 4.2390e-05 - accuracy: 1.0000 - val_loss: 1.9777 - val_accuracy: 0.7388\n",
      "Epoch 27/30\n",
      "782/782 [==============================] - 18s 23ms/step - loss: 2.7340e-05 - accuracy: 1.0000 - val_loss: 2.0528 - val_accuracy: 0.7388\n",
      "Epoch 28/30\n",
      "782/782 [==============================] - 18s 23ms/step - loss: 1.7736e-05 - accuracy: 1.0000 - val_loss: 2.1240 - val_accuracy: 0.7398\n",
      "Epoch 29/30\n",
      "782/782 [==============================] - 18s 23ms/step - loss: 1.1502e-05 - accuracy: 1.0000 - val_loss: 2.1997 - val_accuracy: 0.7401\n",
      "Epoch 30/30\n",
      "782/782 [==============================] - 18s 23ms/step - loss: 7.4733e-06 - accuracy: 1.0000 - val_loss: 2.2680 - val_accuracy: 0.7415\n"
     ]
    }
   ],
   "source": [
    "num_epochs=30\n",
    "history=model.fit(padded, training_labels_final, epochs=num_epochs, validation_data = (testing_padded, testing_labels_final))"
   ]
  },
  {
   "cell_type": "code",
   "execution_count": 23,
   "id": "974bda18-7eb5-4cb3-9eca-ae55c8a5a21c",
   "metadata": {},
   "outputs": [
    {
     "data": {
      "image/png": "[encoded data removed]",
      "text/plain": [
       "<Figure size 432x288 with 1 Axes>"
      ]
     },
     "metadata": {
      "needs_background": "light"
     },
     "output_type": "display_data"
    },
    {
     "data": {
      "image/png": "[encoded data removed]",
      "text/plain": [
       "<Figure size 432x288 with 1 Axes>"
      ]
     },
     "metadata": {
      "needs_background": "light"
     },
     "output_type": "display_data"
    }
   ],
   "source": [
    "import matplotlib.pyplot as plt\n",
    "def plot_graphs(history, string):\n",
    "    plt.plot(history.history[string])\n",
    "    plt.plot(history.history['val_'+string])\n",
    "    plt.xlabel(\"Epochs\")\n",
    "    plt.ylabel(string)\n",
    "    plt.legend([string, 'val_'+string])\n",
    "    plt.show()\n",
    "\n",
    "plot_graphs(history, 'accuracy')    \n",
    "plot_graphs(history, 'loss')"
   ]
  },
  {
   "cell_type": "code",
   "execution_count": 24,
   "id": "a7273eee-aa86-4f37-b16e-f9ef6cf1f1b5",
   "metadata": {},
   "outputs": [
    {
     "name": "stdout",
     "output_type": "stream",
     "text": [
      "Model: \"sequential_1\"\n",
      "_________________________________________________________________\n",
      " Layer (type)                Output Shape              Param #   \n",
      "=================================================================\n",
      " embedding_1 (Embedding)     (None, 120, 16)           160000    \n",
      "                                                                 \n",
      " bidirectional (Bidirectiona  (None, 64)               9600      \n",
      " l)                                                              \n",
      "                                                                 \n",
      " dense_2 (Dense)             (None, 10)                650       \n",
      "                                                                 \n",
      " dense_3 (Dense)             (None, 1)                 11        \n",
      "                                                                 \n",
      "=================================================================\n",
      "Total params: 170,261\n",
      "Trainable params: 170,261\n",
      "Non-trainable params: 0\n",
      "_________________________________________________________________\n"
     ]
    }
   ],
   "source": [
    "#Gated Recurrent Unit (GRU)\n",
    "#This is an improved version of the RNN model. It is more efficient than SimpleRNN models. \n",
    "#It has two gates: reset and update. For this demonstration, I will replace the SimpleRNN layer with a bidirectional GRU layer with the same number of units.\n",
    "\n",
    "\n",
    "model = tf.keras.Sequential([\n",
    "    tf.keras.layers.Embedding(vocab_size, embedding_dim,input_length=max_length),\n",
    "    tf.keras.layers.Bidirectional(tf.keras.layers.GRU(32)),\n",
    "    tf.keras.layers.Dense(10, activation='relu'),\n",
    "    tf.keras.layers.Dense(1, activation='sigmoid')])\n",
    "model.summary()\n"
   ]
  },
  {
   "cell_type": "code",
   "execution_count": 25,
   "id": "b258d755-bc1d-450c-a403-3610445ab6b4",
   "metadata": {},
   "outputs": [
    {
     "name": "stdout",
     "output_type": "stream",
     "text": [
      "Epoch 1/30\n",
      "782/782 [==============================] - 36s 41ms/step - loss: 0.5078 - accuracy: 0.7216 - val_loss: 0.3504 - val_accuracy: 0.8495\n",
      "Epoch 2/30\n",
      "782/782 [==============================] - 32s 41ms/step - loss: 0.2940 - accuracy: 0.8789 - val_loss: 0.3571 - val_accuracy: 0.8459\n",
      "Epoch 3/30\n",
      "782/782 [==============================] - 32s 41ms/step - loss: 0.2304 - accuracy: 0.9106 - val_loss: 0.3899 - val_accuracy: 0.8429\n",
      "Epoch 4/30\n",
      "782/782 [==============================] - 32s 41ms/step - loss: 0.1754 - accuracy: 0.9358 - val_loss: 0.4204 - val_accuracy: 0.8373\n",
      "Epoch 5/30\n",
      "782/782 [==============================] - 32s 41ms/step - loss: 0.1181 - accuracy: 0.9598 - val_loss: 0.4949 - val_accuracy: 0.8273\n",
      "Epoch 6/30\n",
      "782/782 [==============================] - 32s 41ms/step - loss: 0.0763 - accuracy: 0.9747 - val_loss: 0.5838 - val_accuracy: 0.8240\n",
      "Epoch 7/30\n",
      "782/782 [==============================] - 32s 41ms/step - loss: 0.0480 - accuracy: 0.9853 - val_loss: 0.7359 - val_accuracy: 0.8246\n",
      "Epoch 8/30\n",
      "782/782 [==============================] - 32s 41ms/step - loss: 0.0300 - accuracy: 0.9905 - val_loss: 0.8459 - val_accuracy: 0.8164\n",
      "Epoch 9/30\n",
      "782/782 [==============================] - 32s 42ms/step - loss: 0.0240 - accuracy: 0.9920 - val_loss: 1.0026 - val_accuracy: 0.8134\n",
      "Epoch 10/30\n",
      "782/782 [==============================] - 33s 42ms/step - loss: 0.0195 - accuracy: 0.9934 - val_loss: 1.1318 - val_accuracy: 0.8068\n",
      "Epoch 11/30\n",
      "782/782 [==============================] - 33s 42ms/step - loss: 0.0120 - accuracy: 0.9962 - val_loss: 1.1486 - val_accuracy: 0.8192\n",
      "Epoch 12/30\n",
      "782/782 [==============================] - 32s 42ms/step - loss: 0.0056 - accuracy: 0.9982 - val_loss: 1.2717 - val_accuracy: 0.8174\n",
      "Epoch 13/30\n",
      "782/782 [==============================] - 33s 42ms/step - loss: 0.0108 - accuracy: 0.9962 - val_loss: 1.2093 - val_accuracy: 0.8181\n",
      "Epoch 14/30\n",
      "782/782 [==============================] - 33s 42ms/step - loss: 0.0115 - accuracy: 0.9963 - val_loss: 1.1606 - val_accuracy: 0.8175\n",
      "Epoch 15/30\n",
      "782/782 [==============================] - 33s 42ms/step - loss: 0.0075 - accuracy: 0.9976 - val_loss: 1.2836 - val_accuracy: 0.8181\n",
      "Epoch 16/30\n",
      "782/782 [==============================] - 33s 42ms/step - loss: 0.0051 - accuracy: 0.9982 - val_loss: 1.4060 - val_accuracy: 0.8197\n",
      "Epoch 17/30\n",
      "782/782 [==============================] - 33s 42ms/step - loss: 0.0053 - accuracy: 0.9984 - val_loss: 1.3929 - val_accuracy: 0.8168\n",
      "Epoch 18/30\n",
      "782/782 [==============================] - 33s 42ms/step - loss: 0.0020 - accuracy: 0.9992 - val_loss: 1.6770 - val_accuracy: 0.8136\n",
      "Epoch 19/30\n",
      "782/782 [==============================] - 33s 42ms/step - loss: 0.0098 - accuracy: 0.9966 - val_loss: 1.4568 - val_accuracy: 0.8096\n",
      "Epoch 20/30\n",
      "782/782 [==============================] - 33s 42ms/step - loss: 0.0038 - accuracy: 0.9989 - val_loss: 1.5553 - val_accuracy: 0.8126\n",
      "Epoch 21/30\n",
      "782/782 [==============================] - 33s 42ms/step - loss: 0.0056 - accuracy: 0.9982 - val_loss: 1.4574 - val_accuracy: 0.8180\n",
      "Epoch 22/30\n",
      "782/782 [==============================] - 33s 42ms/step - loss: 0.0017 - accuracy: 0.9994 - val_loss: 1.5669 - val_accuracy: 0.8158\n",
      "Epoch 23/30\n",
      "782/782 [==============================] - 33s 42ms/step - loss: 0.0028 - accuracy: 0.9991 - val_loss: 1.5996 - val_accuracy: 0.8198\n",
      "Epoch 24/30\n",
      "782/782 [==============================] - 33s 42ms/step - loss: 0.0027 - accuracy: 0.9992 - val_loss: 1.7123 - val_accuracy: 0.8036\n",
      "Epoch 25/30\n",
      "782/782 [==============================] - 33s 42ms/step - loss: 0.0053 - accuracy: 0.9983 - val_loss: 1.6038 - val_accuracy: 0.8165\n",
      "Epoch 26/30\n",
      "782/782 [==============================] - 33s 42ms/step - loss: 0.0071 - accuracy: 0.9974 - val_loss: 1.5063 - val_accuracy: 0.8097\n",
      "Epoch 27/30\n",
      "782/782 [==============================] - 33s 42ms/step - loss: 8.3314e-04 - accuracy: 0.9998 - val_loss: 1.5774 - val_accuracy: 0.8147\n",
      "Epoch 28/30\n",
      "782/782 [==============================] - 33s 42ms/step - loss: 6.5123e-05 - accuracy: 1.0000 - val_loss: 1.6694 - val_accuracy: 0.8165\n",
      "Epoch 29/30\n",
      "782/782 [==============================] - 33s 43ms/step - loss: 2.3022e-05 - accuracy: 1.0000 - val_loss: 1.7272 - val_accuracy: 0.8156\n",
      "Epoch 30/30\n",
      "782/782 [==============================] - 33s 42ms/step - loss: 1.4942e-05 - accuracy: 1.0000 - val_loss: 1.7841 - val_accuracy: 0.8155\n"
     ]
    }
   ],
   "source": [
    "model.compile(loss=\"binary_crossentropy\",\n",
    "             optimizer='adam',metrics=['accuracy'])\n",
    "history=model.fit(padded, training_labels_final, epochs=num_epochs,\n",
    "            validation_data = (testing_padded,testing_labels_final))"
   ]
  },
  {
   "cell_type": "code",
   "execution_count": 26,
   "id": "19a031b6-44e8-4f54-b120-e34491caed96",
   "metadata": {},
   "outputs": [
    {
     "data": {
      "image/png": "[encoded data removed]",
      "text/plain": [
       "<Figure size 432x288 with 1 Axes>"
      ]
     },
     "metadata": {
      "needs_background": "light"
     },
     "output_type": "display_data"
    },
    {
     "data": {
      "image/png": "[encoded data removed]",
      "text/plain": [
       "<Figure size 432x288 with 1 Axes>"
      ]
     },
     "metadata": {
      "needs_background": "light"
     },
     "output_type": "display_data"
    }
   ],
   "source": [
    "plot_graphs(history, 'accuracy')\n",
    "plot_graphs(history, 'loss')"
   ]
  },
  {
   "cell_type": "code",
   "execution_count": 27,
   "id": "ced406f9-4951-4461-a2a6-937f3d259e97",
   "metadata": {},
   "outputs": [
    {
     "name": "stdout",
     "output_type": "stream",
     "text": [
      "Model: \"sequential_2\"\n",
      "_________________________________________________________________\n",
      " Layer (type)                Output Shape              Param #   \n",
      "=================================================================\n",
      " embedding_2 (Embedding)     (None, 120, 16)           160000    \n",
      "                                                                 \n",
      " bidirectional_1 (Bidirectio  (None, 64)               12544     \n",
      " nal)                                                            \n",
      "                                                                 \n",
      " dense_4 (Dense)             (None, 10)                650       \n",
      "                                                                 \n",
      " dense_5 (Dense)             (None, 1)                 11        \n",
      "                                                                 \n",
      "=================================================================\n",
      "Total params: 173,205\n",
      "Trainable params: 173,205\n",
      "Non-trainable params: 0\n",
      "_________________________________________________________________\n"
     ]
    }
   ],
   "source": [
    "#Long Short Term Model (LSTM)\n",
    "\n",
    "model = tf.keras.Sequential([\n",
    "    tf.keras.layers.Embedding(vocab_size, embedding_dim, input_length=max_length),\n",
    "    tf.keras.layers.Bidirectional(tf.keras.layers.LSTM(32)),\n",
    "    tf.keras.layers.Dense(10, activation='relu'),\n",
    "    tf.keras.layers.Dense(1, activation='sigmoid')])\n",
    "\n",
    "model.compile(loss='binary_crossentropy',optimizer='adam',metrics=['accuracy'])\n",
    "model.summary()"
   ]
  },
  {
   "cell_type": "code",
   "execution_count": 28,
   "id": "a5d3034e-5403-404d-aea0-d4e0d2f51216",
   "metadata": {},
   "outputs": [
    {
     "name": "stdout",
     "output_type": "stream",
     "text": [
      "Epoch 1/30\n",
      "782/782 [==============================] - 36s 42ms/step - loss: 0.5249 - accuracy: 0.7334 - val_loss: 0.3745 - val_accuracy: 0.8384\n",
      "Epoch 2/30\n",
      "782/782 [==============================] - 33s 42ms/step - loss: 0.3292 - accuracy: 0.8635 - val_loss: 0.3575 - val_accuracy: 0.8472\n",
      "Epoch 3/30\n",
      "782/782 [==============================] - 33s 42ms/step - loss: 0.2560 - accuracy: 0.8988 - val_loss: 0.3844 - val_accuracy: 0.8454\n",
      "Epoch 4/30\n",
      "782/782 [==============================] - 33s 43ms/step - loss: 0.2083 - accuracy: 0.9225 - val_loss: 0.4185 - val_accuracy: 0.8404\n",
      "Epoch 5/30\n",
      "782/782 [==============================] - 33s 43ms/step - loss: 0.1613 - accuracy: 0.9414 - val_loss: 0.5193 - val_accuracy: 0.8279\n",
      "Epoch 6/30\n",
      "782/782 [==============================] - 33s 42ms/step - loss: 0.1257 - accuracy: 0.9553 - val_loss: 0.4865 - val_accuracy: 0.8255\n",
      "Epoch 7/30\n",
      "782/782 [==============================] - 33s 42ms/step - loss: 0.1006 - accuracy: 0.9658 - val_loss: 0.5879 - val_accuracy: 0.8239\n",
      "Epoch 8/30\n",
      "782/782 [==============================] - 33s 42ms/step - loss: 0.0815 - accuracy: 0.9720 - val_loss: 0.5818 - val_accuracy: 0.8165\n",
      "Epoch 9/30\n",
      "782/782 [==============================] - 33s 42ms/step - loss: 0.0639 - accuracy: 0.9787 - val_loss: 0.7632 - val_accuracy: 0.8201\n",
      "Epoch 10/30\n",
      "782/782 [==============================] - 33s 42ms/step - loss: 0.0464 - accuracy: 0.9850 - val_loss: 0.8232 - val_accuracy: 0.8198\n",
      "Epoch 11/30\n",
      "782/782 [==============================] - 33s 42ms/step - loss: 0.0349 - accuracy: 0.9895 - val_loss: 0.9438 - val_accuracy: 0.8139\n",
      "Epoch 12/30\n",
      "782/782 [==============================] - 33s 43ms/step - loss: 0.0391 - accuracy: 0.9885 - val_loss: 0.9472 - val_accuracy: 0.8188\n",
      "Epoch 13/30\n",
      "782/782 [==============================] - 33s 42ms/step - loss: 0.0288 - accuracy: 0.9913 - val_loss: 1.0034 - val_accuracy: 0.8156\n",
      "Epoch 14/30\n",
      "782/782 [==============================] - 33s 42ms/step - loss: 0.0208 - accuracy: 0.9938 - val_loss: 1.2231 - val_accuracy: 0.8209\n",
      "Epoch 15/30\n",
      "782/782 [==============================] - 33s 42ms/step - loss: 0.0206 - accuracy: 0.9938 - val_loss: 1.0793 - val_accuracy: 0.8175\n",
      "Epoch 16/30\n",
      "782/782 [==============================] - 33s 42ms/step - loss: 0.0189 - accuracy: 0.9948 - val_loss: 1.0754 - val_accuracy: 0.8206\n",
      "Epoch 17/30\n",
      "782/782 [==============================] - 33s 42ms/step - loss: 0.0154 - accuracy: 0.9958 - val_loss: 1.1649 - val_accuracy: 0.8208\n",
      "Epoch 18/30\n",
      "782/782 [==============================] - 33s 42ms/step - loss: 0.0158 - accuracy: 0.9951 - val_loss: 1.1507 - val_accuracy: 0.8084\n",
      "Epoch 19/30\n",
      "782/782 [==============================] - 33s 43ms/step - loss: 0.0118 - accuracy: 0.9967 - val_loss: 1.2672 - val_accuracy: 0.8198\n",
      "Epoch 20/30\n",
      "782/782 [==============================] - 33s 42ms/step - loss: 0.0169 - accuracy: 0.9948 - val_loss: 1.1116 - val_accuracy: 0.8203\n",
      "Epoch 21/30\n",
      "782/782 [==============================] - 33s 42ms/step - loss: 0.0133 - accuracy: 0.9960 - val_loss: 1.1427 - val_accuracy: 0.8168\n",
      "Epoch 22/30\n",
      "782/782 [==============================] - 33s 43ms/step - loss: 0.0096 - accuracy: 0.9973 - val_loss: 1.2039 - val_accuracy: 0.8198\n",
      "Epoch 23/30\n",
      "782/782 [==============================] - 33s 43ms/step - loss: 0.0149 - accuracy: 0.9951 - val_loss: 1.0468 - val_accuracy: 0.8059\n",
      "Epoch 24/30\n",
      "782/782 [==============================] - 33s 43ms/step - loss: 0.0089 - accuracy: 0.9972 - val_loss: 1.2939 - val_accuracy: 0.8182\n",
      "Epoch 25/30\n",
      "782/782 [==============================] - 33s 43ms/step - loss: 0.0114 - accuracy: 0.9967 - val_loss: 1.1462 - val_accuracy: 0.8204\n",
      "Epoch 26/30\n",
      "782/782 [==============================] - 33s 43ms/step - loss: 0.0033 - accuracy: 0.9992 - val_loss: 1.3473 - val_accuracy: 0.8215\n",
      "Epoch 27/30\n",
      "782/782 [==============================] - 33s 42ms/step - loss: 0.0136 - accuracy: 0.9958 - val_loss: 1.1193 - val_accuracy: 0.8166\n",
      "Epoch 28/30\n",
      "782/782 [==============================] - 33s 43ms/step - loss: 0.0137 - accuracy: 0.9962 - val_loss: 1.0086 - val_accuracy: 0.8160\n",
      "Epoch 29/30\n",
      "782/782 [==============================] - 33s 43ms/step - loss: 0.0056 - accuracy: 0.9985 - val_loss: 1.3357 - val_accuracy: 0.8214\n",
      "Epoch 30/30\n",
      "782/782 [==============================] - 33s 42ms/step - loss: 3.6399e-04 - accuracy: 1.0000 - val_loss: 1.4142 - val_accuracy: 0.8224\n"
     ]
    }
   ],
   "source": [
    "num_epochs=30\n",
    "history = model.fit(padded, training_labels_final, epochs=num_epochs, validation_data = (testing_padded, testing_labels_final))"
   ]
  },
  {
   "cell_type": "code",
   "execution_count": 29,
   "id": "6ae42e03-b781-4f33-9a22-feac549c8175",
   "metadata": {},
   "outputs": [
    {
     "data": {
      "image/png": "[encoded data removed]",
      "text/plain": [
       "<Figure size 432x288 with 1 Axes>"
      ]
     },
     "metadata": {
      "needs_background": "light"
     },
     "output_type": "display_data"
    },
    {
     "data": {
      "image/png": "[encoded data removed]",
      "text/plain": [
       "<Figure size 432x288 with 1 Axes>"
      ]
     },
     "metadata": {
      "needs_background": "light"
     },
     "output_type": "display_data"
    }
   ],
   "source": [
    "plot_graphs(history, 'accuracy')\n",
    "plot_graphs(history, 'loss')"
   ]
  },
  {
   "cell_type": "code",
   "execution_count": null,
   "id": "2d04a550-743d-48f0-821e-c99e8b4ec846",
   "metadata": {},
   "outputs": [],
   "source": []
  },
  {
   "cell_type": "code",
   "execution_count": null,
   "id": "7f521069-6642-4dbe-a9a1-89cb43b6fa0b",
   "metadata": {},
   "outputs": [],
   "source": []
  },
  {
   "cell_type": "code",
   "execution_count": null,
   "id": "58fc126c-0d1a-48ef-95c4-9c86b9b644a7",
   "metadata": {},
   "outputs": [],
   "source": []
  },
  {
   "cell_type": "code",
   "execution_count": null,
   "id": "791e071c-b85f-41fc-ba74-a7507fa610d2",
   "metadata": {},
   "outputs": [],
   "source": []
  }
 ],
 "metadata": {
  "kernelspec": {
   "display_name": "Python 3.8 - AzureML",
   "language": "python",
   "name": "python38-azureml"
  },
  "language_info": {
   "codemirror_mode": {
    "name": "ipython",
    "version": 3
   },
   "file_extension": ".py",
   "mimetype": "text/x-python",
   "name": "python",
   "nbconvert_exporter": "python",
   "pygments_lexer": "ipython3",
   "version": "3.8.5"
  }
 },
 "nbformat": 4,
 "nbformat_minor": 5
}
